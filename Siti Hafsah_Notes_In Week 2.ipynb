{
  "nbformat": 4,
  "nbformat_minor": 0,
  "metadata": {
    "colab": {
      "name": "Week 2.ipynb",
      "provenance": []
    },
    "kernelspec": {
      "name": "python3",
      "display_name": "Python 3"
    },
    "language_info": {
      "name": "python"
    }
  },
  "cells": [
    {
      "cell_type": "code",
      "metadata": {
        "id": "otY4_AARILRV"
      },
      "source": [
        "# contoh \n",
        "a = 16 #integer\n",
        "b = 3.142323 #float\n",
        "c = \"A\" #string\n",
        "d = \"Haruto\" #string\n",
        "e = True #boolean\n",
        "f = False #boolean\n",
        "g = [] #list\n",
        "h = {} #dictionary\n",
        "i = () #tuple"
      ],
      "execution_count": 13,
      "outputs": []
    },
    {
      "cell_type": "code",
      "metadata": {
        "colab": {
          "base_uri": "https://localhost:8080/"
        },
        "id": "EngzWF-aKZqy",
        "outputId": "f392ffd1-5509-4024-9c2d-bfc951adb562"
      },
      "source": [
        "# print di python \n",
        "print (\"siti hafsah\")\n",
        "print (\"hello world\")"
      ],
      "execution_count": 4,
      "outputs": [
        {
          "output_type": "stream",
          "name": "stdout",
          "text": [
            "siti hafsah\n",
            "hello world\n"
          ]
        }
      ]
    },
    {
      "cell_type": "code",
      "metadata": {
        "colab": {
          "base_uri": "https://localhost:8080/"
        },
        "id": "yaccmCK3Kr_c",
        "outputId": "250102cf-c964-4ce9-aeef-5a354be1322a"
      },
      "source": [
        "print(2)\n",
        "print(2+3*10)"
      ],
      "execution_count": 6,
      "outputs": [
        {
          "output_type": "stream",
          "name": "stdout",
          "text": [
            "2\n",
            "32\n"
          ]
        }
      ]
    },
    {
      "cell_type": "code",
      "metadata": {
        "colab": {
          "base_uri": "https://localhost:8080/"
        },
        "id": "5LH04QJrK1K1",
        "outputId": "6d0ccc1a-2e3a-4ed0-a32a-79b387b2d24f"
      },
      "source": [
        "print (d)"
      ],
      "execution_count": 7,
      "outputs": [
        {
          "output_type": "stream",
          "name": "stdout",
          "text": [
            "hello world\n"
          ]
        }
      ]
    },
    {
      "cell_type": "code",
      "metadata": {
        "colab": {
          "base_uri": "https://localhost:8080/"
        },
        "id": "AA0TnLFkKxUF",
        "outputId": "3ff5c408-b22b-4cf4-aea8-fadb19029426"
      },
      "source": [
        "# concate\n",
        "print(\"Hai kamu \" + d)"
      ],
      "execution_count": 15,
      "outputs": [
        {
          "output_type": "stream",
          "name": "stdout",
          "text": [
            "Hai kamu Haruto\n"
          ]
        }
      ]
    },
    {
      "cell_type": "code",
      "metadata": {
        "colab": {
          "base_uri": "https://localhost:8080/"
        },
        "id": "uRxm4gV_LWrG",
        "outputId": "d4ce7949-7154-4302-b5ef-4a5a189e14c1"
      },
      "source": [
        "print(\"Hai kamu {}\".format(d))"
      ],
      "execution_count": 16,
      "outputs": [
        {
          "output_type": "stream",
          "name": "stdout",
          "text": [
            "Hai kamu Haruto\n"
          ]
        }
      ]
    },
    {
      "cell_type": "code",
      "metadata": {
        "colab": {
          "base_uri": "https://localhost:8080/",
          "height": 198
        },
        "id": "kBJHXliKL1a5",
        "outputId": "828290d9-0862-4ae5-9f61-a16f546f519a"
      },
      "source": [
        "print(\"nilainya adalah \" + a)"
      ],
      "execution_count": 11,
      "outputs": [
        {
          "output_type": "error",
          "ename": "TypeError",
          "evalue": "ignored",
          "traceback": [
            "\u001b[0;31m---------------------------------------------------------------------------\u001b[0m",
            "\u001b[0;31mTypeError\u001b[0m                                 Traceback (most recent call last)",
            "\u001b[0;32m<ipython-input-11-ed2e684b521d>\u001b[0m in \u001b[0;36m<module>\u001b[0;34m()\u001b[0m\n\u001b[0;32m----> 1\u001b[0;31m \u001b[0mprint\u001b[0m\u001b[0;34m(\u001b[0m\u001b[0;34m\"nilainya adalah \"\u001b[0m \u001b[0;34m+\u001b[0m \u001b[0ma\u001b[0m\u001b[0;34m)\u001b[0m\u001b[0;34m\u001b[0m\u001b[0;34m\u001b[0m\u001b[0m\n\u001b[0m",
            "\u001b[0;31mTypeError\u001b[0m: can only concatenate str (not \"int\") to str"
          ]
        }
      ]
    },
    {
      "cell_type": "code",
      "metadata": {
        "colab": {
          "base_uri": "https://localhost:8080/"
        },
        "id": "yjGJzu7LL86u",
        "outputId": "46d5e416-7a19-4617-f375-7e1314cfe266"
      },
      "source": [
        "print(\"nilainya adalah \" + str(a))"
      ],
      "execution_count": 12,
      "outputs": [
        {
          "output_type": "stream",
          "name": "stdout",
          "text": [
            "nilainya adalah 16\n"
          ]
        }
      ]
    },
    {
      "cell_type": "code",
      "metadata": {
        "colab": {
          "base_uri": "https://localhost:8080/"
        },
        "id": "WoojJYqCMFkI",
        "outputId": "7774de76-034f-4fd2-f50e-432570927a10"
      },
      "source": [
        "print(\"Nilainya adalah {}\".format(a))"
      ],
      "execution_count": 17,
      "outputs": [
        {
          "output_type": "stream",
          "name": "stdout",
          "text": [
            "Nilainya adalah 16\n"
          ]
        }
      ]
    },
    {
      "cell_type": "code",
      "metadata": {
        "colab": {
          "base_uri": "https://localhost:8080/"
        },
        "id": "pYxb-o_aNGg-",
        "outputId": "5f6b2827-e181-4e31-8847-6a1277662d14"
      },
      "source": [
        "print(\"Namaku {}, Nilai ujianku {}, dan aku orang bekasi\".format(d,a,f))"
      ],
      "execution_count": 18,
      "outputs": [
        {
          "output_type": "stream",
          "name": "stdout",
          "text": [
            "Namaku Haruto, Nilai ujianku 16, dan aku orang bekasi\n"
          ]
        }
      ]
    },
    {
      "cell_type": "code",
      "metadata": {
        "id": "BaQEXo7eNbY2"
      },
      "source": [
        "#LIST\n",
        "sekolah = [\"kelas\",10, True, 3.4, [\"bambang\", \"budi\"], {\"Hewan\": \"Gajah\"}]"
      ],
      "execution_count": 24,
      "outputs": []
    },
    {
      "cell_type": "code",
      "metadata": {
        "colab": {
          "base_uri": "https://localhost:8080/"
        },
        "id": "wxS32FcHOJYb",
        "outputId": "f5feb186-93e4-4a95-b05f-949a2ab6f7b2"
      },
      "source": [
        "sekolah[4]"
      ],
      "execution_count": 25,
      "outputs": [
        {
          "output_type": "execute_result",
          "data": {
            "text/plain": [
              "['bambang', 'budi']"
            ]
          },
          "metadata": {},
          "execution_count": 25
        }
      ]
    },
    {
      "cell_type": "code",
      "metadata": {
        "colab": {
          "base_uri": "https://localhost:8080/",
          "height": 37
        },
        "id": "st7Ri_bWO0sj",
        "outputId": "502dc403-4447-49b7-ee6c-6f3a2a4c65b2"
      },
      "source": [
        "sekolah [4] [0]"
      ],
      "execution_count": 27,
      "outputs": [
        {
          "output_type": "execute_result",
          "data": {
            "application/vnd.google.colaboratory.intrinsic+json": {
              "type": "string"
            },
            "text/plain": [
              "'bambang'"
            ]
          },
          "metadata": {},
          "execution_count": 27
        }
      ]
    },
    {
      "cell_type": "code",
      "metadata": {
        "colab": {
          "base_uri": "https://localhost:8080/",
          "height": 37
        },
        "id": "iL1-17YsOeSR",
        "outputId": "00db95c0-1c4b-44cd-84aa-17d212101dae"
      },
      "source": [
        "# cara mengambil list dibelakang\n",
        "sekolah[-1][\"Hewan\"]"
      ],
      "execution_count": 28,
      "outputs": [
        {
          "output_type": "execute_result",
          "data": {
            "application/vnd.google.colaboratory.intrinsic+json": {
              "type": "string"
            },
            "text/plain": [
              "'Gajah'"
            ]
          },
          "metadata": {},
          "execution_count": 28
        }
      ]
    },
    {
      "cell_type": "code",
      "metadata": {
        "id": "KojpDRRuPJw3"
      },
      "source": [
        "Nama_Siswa = [\"Bambang\", \"Budi\", \"Alvin\",\"Said\", \"Mariano\", \"David\"]"
      ],
      "execution_count": 31,
      "outputs": []
    },
    {
      "cell_type": "code",
      "metadata": {
        "id": "hBGDI5MBZHcg"
      },
      "source": [
        ""
      ],
      "execution_count": null,
      "outputs": []
    },
    {
      "cell_type": "code",
      "metadata": {
        "colab": {
          "base_uri": "https://localhost:8080/"
        },
        "id": "8grN5tJYWOBv",
        "outputId": "e451055a-36e3-48e0-f198-0f563b9b0ada"
      },
      "source": [
        "print (\"{}\".format(Nama_Siswa[3]))"
      ],
      "execution_count": 48,
      "outputs": [
        {
          "output_type": "stream",
          "name": "stdout",
          "text": [
            "Said\n"
          ]
        }
      ]
    },
    {
      "cell_type": "code",
      "metadata": {
        "colab": {
          "base_uri": "https://localhost:8080/"
        },
        "id": "w-fHoYDCXjVF",
        "outputId": "82a90a38-47a0-4d7f-d82b-492daa3fe8c9"
      },
      "source": [
        "print (\"{}\".format(Nama_Siswa[1:4:2]))"
      ],
      "execution_count": 51,
      "outputs": [
        {
          "output_type": "stream",
          "name": "stdout",
          "text": [
            "['Budi', 'Said']\n"
          ]
        }
      ]
    },
    {
      "cell_type": "code",
      "metadata": {
        "colab": {
          "base_uri": "https://localhost:8080/"
        },
        "id": "oKiPqztdVQVc",
        "outputId": "c5594959-6423-4d22-96d2-03cb97099c83"
      },
      "source": [
        "Nama_Siswa [0:7:2] # angka 2 untuk loncat 2 kali"
      ],
      "execution_count": 45,
      "outputs": [
        {
          "output_type": "execute_result",
          "data": {
            "text/plain": [
              "['Bambang', 'Alvin', 'Mariano']"
            ]
          },
          "metadata": {},
          "execution_count": 45
        }
      ]
    },
    {
      "cell_type": "code",
      "metadata": {
        "colab": {
          "base_uri": "https://localhost:8080/"
        },
        "id": "SAYSJy1xOmON",
        "outputId": "6045ee1d-aa27-4cf9-8548-e809acdd690b"
      },
      "source": [
        "#list slicing\n",
        "Nama_Siswa [1:5]"
      ],
      "execution_count": 34,
      "outputs": [
        {
          "output_type": "execute_result",
          "data": {
            "text/plain": [
              "['Budi', 'Alvin', 'Said', 'Mariano']"
            ]
          },
          "metadata": {},
          "execution_count": 34
        }
      ]
    },
    {
      "cell_type": "code",
      "metadata": {
        "colab": {
          "base_uri": "https://localhost:8080/"
        },
        "id": "s2MOigGxQSK0",
        "outputId": "c21d6606-479c-452a-b258-98165a264893"
      },
      "source": [
        "Nama_Siswa [3:-1]"
      ],
      "execution_count": 38,
      "outputs": [
        {
          "output_type": "execute_result",
          "data": {
            "text/plain": [
              "['Said', 'Mariano']"
            ]
          },
          "metadata": {},
          "execution_count": 38
        }
      ]
    },
    {
      "cell_type": "code",
      "metadata": {
        "colab": {
          "base_uri": "https://localhost:8080/"
        },
        "id": "C9KJ_J0-PqCY",
        "outputId": "ec9e9e88-c275-4d7c-944f-6120fa3a3189"
      },
      "source": [
        "Nama_Siswa [-2:]"
      ],
      "execution_count": 36,
      "outputs": [
        {
          "output_type": "execute_result",
          "data": {
            "text/plain": [
              "['Mariano', 'David']"
            ]
          },
          "metadata": {},
          "execution_count": 36
        }
      ]
    },
    {
      "cell_type": "code",
      "metadata": {
        "colab": {
          "base_uri": "https://localhost:8080/"
        },
        "id": "tdd5E4WUPxkg",
        "outputId": "d2e42775-299e-42ec-87ff-8356419f5a73"
      },
      "source": [
        "Nama_Siswa [-3:]"
      ],
      "execution_count": 37,
      "outputs": [
        {
          "output_type": "execute_result",
          "data": {
            "text/plain": [
              "['Said', 'Mariano', 'David']"
            ]
          },
          "metadata": {},
          "execution_count": 37
        }
      ]
    },
    {
      "cell_type": "code",
      "metadata": {
        "id": "Xer28WdAQNDU"
      },
      "source": [
        "# Dictionary : sama kayak list bedanya kalau dilist harus mengetahui index sedangkan di dictionary harus key_value\n",
        "Dict1 = {\"Hewan\":\"Gajah\", 0:22, \"Boolean\":\"benar\"}"
      ],
      "execution_count": 39,
      "outputs": []
    },
    {
      "cell_type": "code",
      "metadata": {
        "colab": {
          "base_uri": "https://localhost:8080/",
          "height": 37
        },
        "id": "hM6AdVWGQw67",
        "outputId": "517773e4-9931-47cc-a4f6-4c90647579c0"
      },
      "source": [
        "Dict1[\"Hewan\"]"
      ],
      "execution_count": 40,
      "outputs": [
        {
          "output_type": "execute_result",
          "data": {
            "application/vnd.google.colaboratory.intrinsic+json": {
              "type": "string"
            },
            "text/plain": [
              "'Gajah'"
            ]
          },
          "metadata": {},
          "execution_count": 40
        }
      ]
    },
    {
      "cell_type": "code",
      "metadata": {
        "colab": {
          "base_uri": "https://localhost:8080/"
        },
        "id": "Hfbu0j6IQ0tg",
        "outputId": "637a9752-2b61-4b5e-db11-f636dde4bb7a"
      },
      "source": [
        "Dict1[0]"
      ],
      "execution_count": 41,
      "outputs": [
        {
          "output_type": "execute_result",
          "data": {
            "text/plain": [
              "22"
            ]
          },
          "metadata": {},
          "execution_count": 41
        }
      ]
    },
    {
      "cell_type": "code",
      "metadata": {
        "colab": {
          "base_uri": "https://localhost:8080/",
          "height": 37
        },
        "id": "ekyaHUy8Q3uE",
        "outputId": "4eb9c4a8-4978-4684-91e0-798185dde811"
      },
      "source": [
        "Dict1['Boolean']"
      ],
      "execution_count": 42,
      "outputs": [
        {
          "output_type": "execute_result",
          "data": {
            "application/vnd.google.colaboratory.intrinsic+json": {
              "type": "string"
            },
            "text/plain": [
              "'benar'"
            ]
          },
          "metadata": {},
          "execution_count": 42
        }
      ]
    },
    {
      "cell_type": "code",
      "metadata": {
        "id": "o09U436JR3Vi"
      },
      "source": [
        "Dict2 = {\"Nilai\": 100 ,True:9.8 }"
      ],
      "execution_count": 53,
      "outputs": []
    },
    {
      "cell_type": "code",
      "metadata": {
        "colab": {
          "base_uri": "https://localhost:8080/"
        },
        "id": "AeRSWKb0ZjNk",
        "outputId": "38147131-ccdc-4973-aac0-f8bc232e9c86"
      },
      "source": [
        "print (Dict2[True])"
      ],
      "execution_count": 56,
      "outputs": [
        {
          "output_type": "stream",
          "name": "stdout",
          "text": [
            "9.8\n"
          ]
        }
      ]
    },
    {
      "cell_type": "code",
      "metadata": {
        "id": "TfiLntv1cQIl"
      },
      "source": [
        "Dict3 = {\"Nilai\": {\"MTK\": 100}}"
      ],
      "execution_count": 57,
      "outputs": []
    },
    {
      "cell_type": "code",
      "metadata": {
        "colab": {
          "base_uri": "https://localhost:8080/"
        },
        "id": "QQLCpO0gcm73",
        "outputId": "9a9dd8c5-0bdd-4e1d-935d-abae666eb71e"
      },
      "source": [
        "print (Dict3[\"Nilai\"][\"MTK\"])"
      ],
      "execution_count": 61,
      "outputs": [
        {
          "output_type": "stream",
          "name": "stdout",
          "text": [
            "100\n"
          ]
        }
      ]
    }
  ]
}